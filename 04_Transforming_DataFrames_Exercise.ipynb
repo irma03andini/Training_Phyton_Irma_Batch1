{
  "nbformat": 4,
  "nbformat_minor": 0,
  "metadata": {
    "colab": {
      "name": "04. Transforming DataFrames Exercise.ipynb",
      "provenance": []
    },
    "kernelspec": {
      "name": "python3",
      "display_name": "Python 3"
    },
    "language_info": {
      "name": "python"
    }
  },
  "cells": [
    {
      "cell_type": "code",
      "metadata": {
        "id": "aFeAVj_hwI28"
      },
      "source": [
        "# Import pandas using the alias pd\n",
        "____\n",
        "\n",
        "\n",
        "# Print the head of the homelessness data\n",
        "____\n",
        "\n",
        "# Print information about homelessness\n",
        "____\n",
        "\n",
        "# Print the shape of homelessness\n",
        "____\n",
        "\n",
        "# Print a description of homelessness\n",
        "____"
      ],
      "execution_count": null,
      "outputs": []
    },
    {
      "cell_type": "code",
      "metadata": {
        "id": "fm5saUItwcFd"
      },
      "source": [
        "# Print the values of homelessness\n",
        "____\n",
        "\n",
        "# Print the column index of homelessness\n",
        "____\n",
        "\n",
        "# Print the row index of homelessness\n",
        "____"
      ],
      "execution_count": null,
      "outputs": []
    },
    {
      "cell_type": "markdown",
      "metadata": {
        "id": "C2RxFTVbwurT"
      },
      "source": [
        "1. Sort homelessness by the number of homeless individuals, from smallest to largest, and save this as homelessness_ind.\n",
        "2. Print the head of the sorted DataFrame."
      ]
    },
    {
      "cell_type": "code",
      "metadata": {
        "id": "a3ykbCdgwzQV"
      },
      "source": [
        "# Sort homelessness by individual\n",
        "homelessness_ind = ____\n",
        "\n",
        "# Print the top few rows\n",
        "print(____)"
      ],
      "execution_count": null,
      "outputs": []
    },
    {
      "cell_type": "markdown",
      "metadata": {
        "id": "DzVp9qvLwyQA"
      },
      "source": [
        "1. Sort homelessness by the number of homeless family_members in descending order, and save this as homelessness_fam.\n",
        "2. Print the head of the sorted DataFrame."
      ]
    },
    {
      "cell_type": "code",
      "metadata": {
        "id": "b6XF3IT0w7us"
      },
      "source": [
        "# Sort homelessness by descending family members\n",
        "homelessness_fam = ____\n",
        "\n",
        "# Print the top few rows\n",
        "____"
      ],
      "execution_count": null,
      "outputs": []
    },
    {
      "cell_type": "markdown",
      "metadata": {
        "id": "VrycbWLXxju4"
      },
      "source": [
        "1. Sort homelessness first by region (ascending), and then by number of family members (descending). Save this as homelessness_reg_fam.\n",
        "2. Print the head of the sorted DataFrame."
      ]
    },
    {
      "cell_type": "code",
      "metadata": {
        "id": "8GxinflQxmL6"
      },
      "source": [
        "# Sort homelessness by region, then descending family members\n",
        "homelessness_reg_fam = ____\n",
        "\n",
        "# Print the top few rows\n",
        "____"
      ],
      "execution_count": null,
      "outputs": []
    },
    {
      "cell_type": "markdown",
      "metadata": {
        "id": "ysh02Y60xs7n"
      },
      "source": [
        "1. Create a DataFrame called individuals that contains only the individuals column of homelessness.\n",
        "2. Print the head of the result."
      ]
    },
    {
      "cell_type": "code",
      "metadata": {
        "id": "N9kvbr1fxwQV"
      },
      "source": [
        "# Select the individuals column\n",
        "individuals = ____\n",
        "\n",
        "# Print the head of the result\n",
        "____"
      ],
      "execution_count": null,
      "outputs": []
    },
    {
      "cell_type": "markdown",
      "metadata": {
        "id": "kjcynwqKyprN"
      },
      "source": [
        "1. Create a DataFrame called state_fam that contains only the state and family_members columns of homelessness, in that order.\n",
        "2. Print the head of the result."
      ]
    },
    {
      "cell_type": "code",
      "metadata": {
        "id": "cmOO0FXNyuLY"
      },
      "source": [
        "# Select the state and family_members columns\n",
        "state_fam = ____\n",
        "\n",
        "# Print the head of the result\n",
        "____"
      ],
      "execution_count": null,
      "outputs": []
    },
    {
      "cell_type": "markdown",
      "metadata": {
        "id": "HDL0tEKpywNU"
      },
      "source": [
        "1. Create a DataFrame called ind_state that contains the individuals and state columns of homelessness, in that order.\n",
        "2. Print the head of the result."
      ]
    },
    {
      "cell_type": "code",
      "metadata": {
        "id": "9CGyZMlPy17L"
      },
      "source": [
        "# Select only the individuals and state columns, in that order\n",
        "ind_state = ____\n",
        "\n",
        "# Print the head of the result\n",
        "____"
      ],
      "execution_count": null,
      "outputs": []
    },
    {
      "cell_type": "markdown",
      "metadata": {
        "id": "jRHrSM92zYH5"
      },
      "source": [
        "Filter homelessness for cases where the number of individuals is greater than ten thousand, assigning to ind_gt_10k. View the printed result."
      ]
    },
    {
      "cell_type": "code",
      "metadata": {
        "id": "Gb2mfRaYzbvk"
      },
      "source": [
        "# Filter for rows where individuals is greater than 10000\n",
        "ind_gt_10k = ____\n",
        "\n",
        "# See the result\n",
        "print(ind_gt_10k)"
      ],
      "execution_count": null,
      "outputs": []
    },
    {
      "cell_type": "markdown",
      "metadata": {
        "id": "ON9JYsLnzcPF"
      },
      "source": [
        "Filter homelessness for cases where the USA Census region is \"Mountain\", assigning to mountain_reg. View the printed result."
      ]
    },
    {
      "cell_type": "code",
      "metadata": {
        "id": "MrVVVJwMzhaI"
      },
      "source": [
        "# Filter for rows where region is Mountain\n",
        "mountain_reg = ____\n",
        "\n",
        "# See the result\n",
        "____"
      ],
      "execution_count": null,
      "outputs": []
    },
    {
      "cell_type": "markdown",
      "metadata": {
        "id": "DDQQp1oWziHx"
      },
      "source": [
        "Filter homelessness for cases where the number of family_members is less than one thousand and the region is \"Pacific\", assigning to fam_lt_1k_pac. View the printed result."
      ]
    },
    {
      "cell_type": "code",
      "metadata": {
        "id": "8YRcU-HszlCU"
      },
      "source": [
        "# Filter for rows where family_members is less than 1000 \n",
        "# and region is Pacific\n",
        "fam_lt_1k_pac = ____\n",
        "\n",
        "# See the result\n",
        "print(fam_lt_1k_pac)"
      ],
      "execution_count": null,
      "outputs": []
    },
    {
      "cell_type": "markdown",
      "metadata": {
        "id": "yGDc3wEIzpE8"
      },
      "source": [
        "Filter homelessness for cases where the USA census region is \"South Atlantic\" or it is \"Mid-Atlantic\", assigning to south_mid_atlantic. View the printed result"
      ]
    },
    {
      "cell_type": "code",
      "metadata": {
        "id": "nk8O0I2PzrLV"
      },
      "source": [
        "# Subset for rows in South Atlantic or Mid-Atlantic regions\n",
        "south_mid_atlantic = ____\n",
        "\n",
        "# See the result\n",
        "print(south_mid_atlantic)"
      ],
      "execution_count": null,
      "outputs": []
    },
    {
      "cell_type": "markdown",
      "metadata": {
        "id": "jjBCm7kAzs5u"
      },
      "source": [
        "Filter homelessness for cases where the USA census state is in the list of Mojave states, canu, assigning to mojave_homelessness. View the printed result."
      ]
    },
    {
      "cell_type": "code",
      "metadata": {
        "id": "F45HAHppzvKf"
      },
      "source": [
        "# The Mojave Desert states\n",
        "canu = [\"California\", \"Arizona\", \"Nevada\", \"Utah\"]\n",
        "\n",
        "# Filter for rows in the Mojave Desert states\n",
        "mojave_homelessness = ____\n",
        "\n",
        "# See the result\n",
        "print(mojave_homelessness)"
      ],
      "execution_count": null,
      "outputs": []
    },
    {
      "cell_type": "markdown",
      "metadata": {
        "id": "-HUNhiw2zzvO"
      },
      "source": [
        "1. Add a new column to homelessness, named total, containing the sum of the individuals and family_members columns.\n",
        "2. Add another column to homelessness, named p_individuals, containing the proportion of homeless people in each state who are individuals."
      ]
    },
    {
      "cell_type": "code",
      "metadata": {
        "id": "Cc9kHD-Szw9S"
      },
      "source": [
        "# Add total col as sum of individuals and family_members\n",
        "____\n",
        "\n",
        "# Add p_individuals col as proportion of individuals\n",
        "____\n",
        "\n",
        "# See the result\n",
        "print(homelessness)"
      ],
      "execution_count": null,
      "outputs": []
    },
    {
      "cell_type": "markdown",
      "metadata": {
        "id": "nU1T0AwEz5dR"
      },
      "source": [
        "1. Add a column to homelessness, indiv_per_10k, containing the number of homeless individuals per ten thousand people in each state.\n",
        "2. Subset rows where indiv_per_10k is higher than 20, assigning to high_homelessness.\n",
        "3. Sort high_homelessness by descending indiv_per_10k, assigning to high_homelessness_srt.\n",
        "4. Select only the state and indiv_per_10k columns of high_homelessness_srt and save as result. Look at the result."
      ]
    },
    {
      "cell_type": "code",
      "metadata": {
        "id": "IybcAnQ2z5DU"
      },
      "source": [
        "# Create indiv_per_10k col as homeless individuals per 10k state pop\n",
        "homelessness[\"indiv_per_10k\"] = 10000 * ____ / ____ \n",
        "\n",
        "# Subset rows for indiv_per_10k greater than 20\n",
        "high_homelessness = ____\n",
        "\n",
        "# Sort high_homelessness by descending indiv_per_10k\n",
        "high_homelessness_srt = ____\n",
        "\n",
        "# From high_homelessness_srt, select the state and indiv_per_10k cols\n",
        "result = ____\n",
        "\n",
        "# See the result\n",
        "print(result)"
      ],
      "execution_count": null,
      "outputs": []
    }
  ]
}